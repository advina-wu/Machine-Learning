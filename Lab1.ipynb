{
 "cells": [
  {
   "cell_type": "markdown",
   "metadata": {},
   "source": [
    "## Lab 1: Python Exercises for COMP24112\n",
    "\n",
    "# 1. Instruction\n",
    "\n",
    "There are a total of 12 exercises. You are asked to complete all of them. Print out the final results, and comment if needed. Make sure your results can be reproduced by your TA using Restart & Run All.\n",
    "You are **only** allowed to use libraries in the provided file “Instruction on Mathematical Programming in Python for COMP24112”. Additionally, everything asked to add to a report should be included in one single .pdf file (Arial font 11 or equivalent, maximum two pages, and best to fit within one page)."
   ]
  },
  {
   "cell_type": "markdown",
   "metadata": {},
   "source": [
    "## 2. Exercises\n",
    "\n",
    "Start with the provided supporting tutorial \"Instruction on Mathematical Programming in Python\" and \"Maths Knowledge Overview\". After you are familiar with the basics, you can proceed to the exercises.\n"
   ]
  },
  {
   "cell_type": "markdown",
   "metadata": {},
   "source": [
    "### Exercise 1 (1 mark - easy)\n",
    "\n",
    "Input a 4 by 4 magic square matrix \n",
    "$$\\textbf{A}=\n",
    "\\left[\n",
    "\\begin{array}{cccc}\n",
    "        16   &   3 &  2 & 13 \\\\\n",
    "        5    &  10 & 11 &  8 \\\\\n",
    "        9    &   6 &  7 & 12 \\\\\n",
    "        4    &  15 & 14 &  1 \\\\\n",
    "\\end{array}\n",
    "\\right]. \n",
    "$$  \n",
    "\n",
    "Generate a 4 by 4 matrix $\\textbf{B}$ with random integer entries. Set $\\textbf{C}$ to be a 4 by 4 matrix with 1's on the diagonal and 0's elsewhere. Check to see that, $\\textbf{A}$, $\\textbf{B}$ and $\\textbf{C}$ are all present. Compute the sum of the third column of $\\textbf{A}$."
   ]
  },
  {
   "cell_type": "code",
   "execution_count": 1,
   "metadata": {},
   "outputs": [
    {
     "name": "stdout",
     "output_type": "stream",
     "text": [
      "A :\n",
      "[[16  3  2 13]\n",
      " [ 5 10 11  8]\n",
      " [ 9  6  7 12]\n",
      " [ 4 15 14  1]]\n",
      "B :\n",
      "[[2 6 4 1]\n",
      " [8 7 5 6]\n",
      " [6 2 8 2]\n",
      " [2 3 6 4]]\n",
      "C :\n",
      "[[1 0 0 0]\n",
      " [0 1 0 0]\n",
      " [0 0 1 0]\n",
      " [0 0 0 1]]\n",
      "Sum of the third column of A: 34\n"
     ]
    }
   ],
   "source": [
    "import numpy as np\n",
    "import random \n",
    "\n",
    "A = np.array([[16, 3, 2, 13],\n",
    "              [5, 10, 11, 8],\n",
    "              [9, 6, 7, 12],\n",
    "              [4, 15, 14, 1]\n",
    "             ]) \n",
    "print(\"A :\")\n",
    "print(A)\n",
    "\n",
    "B = np.random.randint(1, 10, size=[4, 4])\n",
    "print(\"B :\")\n",
    "print(B)\n",
    "\n",
    "C = np.diag([1, 1, 1, 1])\n",
    "print(\"C :\")\n",
    "print(C)\n",
    "\n",
    "\n",
    "print(\"Sum of the third column of A: \" + str(np.sum(A[:, 2])))"
   ]
  },
  {
   "cell_type": "markdown",
   "metadata": {},
   "source": [
    "### Exercise 2 (1 mark - easy)\n",
    "\n",
    "Generate a 4 by 2 matrix consisting of the 1st and 3rd columns of $\\textbf{B}$ using the colon operator."
   ]
  },
  {
   "cell_type": "code",
   "execution_count": 2,
   "metadata": {},
   "outputs": [
    {
     "name": "stdout",
     "output_type": "stream",
     "text": [
      "[[2 4]\n",
      " [8 5]\n",
      " [6 8]\n",
      " [2 6]]\n"
     ]
    }
   ],
   "source": [
    "print(B[:, 0:3:2])"
   ]
  },
  {
   "cell_type": "markdown",
   "metadata": {},
   "source": [
    "### Exercise 3 (1 mark - easy)\n",
    "\n",
    "Generate a 4 by 2 matrix containing two different columns that are randomly selected from the columns of $\\textbf{B}$. Generate a 3 by 4 matrix containing three different rows that are randomly selected from the rows of $\\textbf{B}$. "
   ]
  },
  {
   "cell_type": "code",
   "execution_count": 3,
   "metadata": {},
   "outputs": [
    {
     "name": "stdout",
     "output_type": "stream",
     "text": [
      "Random 4x2 matric containing two different columns from B\n",
      "[[2 4]\n",
      " [8 5]\n",
      " [6 8]\n",
      " [2 6]]\n",
      "\n",
      "Random 3x4 matric containing three different rows from B\n",
      "[[6 2 8 2]\n",
      " [2 6 4 1]\n",
      " [8 7 5 6]]\n"
     ]
    }
   ],
   "source": [
    "rnd = np.random.permutation(4)\n",
    "print(\"Random 4x2 matric containing two different columns from B\")\n",
    "print(B[:, rnd[:2]])\n",
    "\n",
    "\n",
    "rnd = np.random.permutation(4)\n",
    "print(\"\\nRandom 3x4 matric containing three different rows from B\")\n",
    "print(B[rnd[:3]])"
   ]
  },
  {
   "cell_type": "markdown",
   "metadata": {},
   "source": [
    "### Exercise 4 (1 mark - easy)\n",
    "\n",
    "The matrix $\\textbf{A}$ is a magic square, in which the sum of each row, each column, and each diagonal is the same. First check whether $\\textbf{A}$ satisfies this  magic square condition. Then sort the 2nd row of $\\textbf{A}$ and print this sorted row using appropriate commands."
   ]
  },
  {
   "cell_type": "code",
   "execution_count": 4,
   "metadata": {},
   "outputs": [
    {
     "name": "stdout",
     "output_type": "stream",
     "text": [
      "[ True  True  True  True]\n",
      "[ 5  8 10 11]\n"
     ]
    }
   ],
   "source": [
    "# checking whether A satisfies tje magic square condition\n",
    "print (((np.sum(A, axis=0)) == (np.sum(A, axis=1))) & (np.sum(A[0])== np.sum(np.diag(A))))\n",
    "print(np.sort(A[1], axis=0))\n"
   ]
  },
  {
   "cell_type": "markdown",
   "metadata": {},
   "source": [
    "### Exercise 5 (1 mark - easy)\n",
    "\n",
    "Set $\\textbf{B}$ as an identity matrix, multiplication of $\\textbf{A}$ by $\\textbf{B}$ should yield $\\textbf{A}$. Check this. What does component by component multipilication give? Check this. "
   ]
  },
  {
   "cell_type": "code",
   "execution_count": 5,
   "metadata": {},
   "outputs": [
    {
     "name": "stdout",
     "output_type": "stream",
     "text": [
      "[[16.  3.  2. 13.]\n",
      " [ 5. 10. 11.  8.]\n",
      " [ 9.  6.  7. 12.]\n",
      " [ 4. 15. 14.  1.]]\n"
     ]
    }
   ],
   "source": [
    "B = np.eye(4)\n",
    "\n",
    "print(A @ B)"
   ]
  },
  {
   "cell_type": "markdown",
   "metadata": {},
   "source": [
    "### Exercise 6 (1 mark - easy)\n",
    "\n",
    "Count the number of values of $\\textbf{A}$ which are greater than 10 using logical operators."
   ]
  },
  {
   "cell_type": "code",
   "execution_count": 6,
   "metadata": {},
   "outputs": [
    {
     "name": "stdout",
     "output_type": "stream",
     "text": [
      "[[16  3  2 13]\n",
      " [ 5 10 11  8]\n",
      " [ 9  6  7 12]\n",
      " [ 4 15 14  1]]\n",
      "[[ True False False  True]\n",
      " [False False  True False]\n",
      " [False False False  True]\n",
      " [False  True  True False]]\n",
      "\n",
      "The number of values of A that is greater than 10: 6\n"
     ]
    }
   ],
   "source": [
    "print(A)\n",
    "print(A>10)\n",
    "\n",
    "count = 0\n",
    "for i in range(len(A)):\n",
    "    for j in range(len(A[0])):\n",
    "        if (A[i][j] > 10):\n",
    "            count += 1\n",
    "\n",
    "print(\"\\nThe number of values of A that is greater than 10: \" + str(count))"
   ]
  },
  {
   "cell_type": "markdown",
   "metadata": {},
   "source": [
    "### Exercise 7 (1 mark - easy)\n",
    "\n",
    "The reciprocal of a number $x$ is  $1/x$. Use `for` loops to  create  a new matrix $\\textbf{B}$, where each element in $\\textbf{B}$ is the reciprocal of the corresponding element in $\\textbf{A}$, and sum the columns of $\\textbf{B}$. Now create the same matrix $\\textbf{B}$ and calculate its column sums in a single operation, using matrix commands, without a `for` loop."
   ]
  },
  {
   "cell_type": "code",
   "execution_count": 7,
   "metadata": {},
   "outputs": [
    {
     "name": "stdout",
     "output_type": "stream",
     "text": [
      "Original A :\n",
      "[[1 9 5 2]\n",
      " [2 7 9 9]\n",
      " [4 5 9 5]\n",
      " [3 7 8 7]]\n",
      "\n",
      "Finding the reciprocal of A using for loops:\n",
      "[[1.         0.11111111 0.2        0.5       ]\n",
      " [0.5        0.14285714 0.11111111 0.11111111]\n",
      " [0.25       0.2        0.11111111 0.2       ]\n",
      " [0.33333333 0.14285714 0.125      0.14285714]]\n",
      "sum of each column of B :\n",
      "[2.08333333 0.5968254  0.54722222 0.95396825]\n",
      "\n",
      "Finding the reciprocal of A without using for loops:\n",
      "[[1.         0.11111111 0.2        0.5       ]\n",
      " [0.5        0.14285714 0.11111111 0.11111111]\n",
      " [0.25       0.2        0.11111111 0.2       ]\n",
      " [0.33333333 0.14285714 0.125      0.14285714]]\n",
      "\n",
      "Sum of each column of B using np.sum:\n",
      "[2.08333333 0.5968254  0.54722222 0.95396825]\n"
     ]
    }
   ],
   "source": [
    "A = np.random.randint(1, 10, size=[4, 4])\n",
    "print(\"Original A :\")\n",
    "print(A)\n",
    "\n",
    "sumOfCol = np.zeros(4)\n",
    "\n",
    "for i in range(len(A)):\n",
    "    for j in range(len(A[0])):\n",
    "        B[i][j] = 1/A[i][j]\n",
    "        sumOfCol[j] += B[i][j]\n",
    "\n",
    "print(\"\\nFinding the reciprocal of A using for loops:\")\n",
    "print(B)\n",
    "print(\"sum of each column of B :\")\n",
    "print(sumOfCol)\n",
    "\n",
    "\n",
    "B = np.random.randint(1, 10, size=[4, 4])\n",
    "B = 1 / A\n",
    "print(\"\\nFinding the reciprocal of A without using for loops:\")\n",
    "print(B)\n",
    "print(\"\\nSum of each column of B using np.sum:\")\n",
    "print(np.sum(B, axis = 0))\n"
   ]
  },
  {
   "cell_type": "markdown",
   "metadata": {},
   "source": [
    "### Exercise 8 (1 mark - easy)\n",
    "\n",
    "Plot the log and square root of the integers from $1$ to $100$ in one single figure. Provide axis names, legend and title for the figure."
   ]
  },
  {
   "cell_type": "code",
   "execution_count": 8,
   "metadata": {},
   "outputs": [
    {
     "data": {
      "image/png": "[encoded data removed]",
      "text/plain": [
       "<Figure size 432x288 with 1 Axes>"
      ]
     },
     "metadata": {
      "needs_background": "light"
     },
     "output_type": "display_data"
    }
   ],
   "source": [
    "from matplotlib import pyplot as plt\n",
    "\n",
    "x = np.arange(1, 100)\n",
    "y_sqrt = x ** 0.5\n",
    "plt.plot(x, y_sqrt, label='Square root')\n",
    "\n",
    "y_log = np.log(x)\n",
    "plt.plot(x, y_log, label='Log')\n",
    "\n",
    "plt.xlabel('x')\n",
    "plt.ylabel('y')\n",
    "plt.title('Log vs Square Root')\n",
    "plt.legend()\n",
    "\n",
    "plt.show()"
   ]
  },
  {
   "cell_type": "markdown",
   "metadata": {},
   "source": [
    "### Exercise 9 (2 marks - normal)\n",
    "\n",
    "Let $\\boldsymbol{y} $ be an $N$-dimensional column vector with $y_i$ denoting its $i$-th element. \n",
    "Let $\\textbf{X}$ be an $N$ by $D$ matrix and $\\boldsymbol{x}_{i}$ be a column vector which is the transpose of the $i$-th row of $\\textbf{X}$.\n",
    "Let $\\boldsymbol{w}$ be a $D$-dimensional column vector. \n",
    "Choose a value for $N$ and a value for $D$ as you like, generate $\\boldsymbol{y}$, $\\textbf{X}$ and $\\boldsymbol{w}$ containing random elements.\n",
    "Use matrix operations and `for` loops to verify the following two quantities are equal. \n",
    "$$ \\boldsymbol{g}_1 = \\textbf{X}^T\\textbf{X} \\boldsymbol{w}-\\textbf{X}^T \\boldsymbol{y}$$\n",
    "$$ \\boldsymbol{g}_2 = \\sum_{i=1}^N \\left(\\boldsymbol{x}_{i}^T \\boldsymbol{w}- y_i\\right) \\boldsymbol{x}_{i}$$\n",
    "\n",
    "Define an example case for your convenience with $N=2$ and $D=3$, calculate $ \\boldsymbol{g}_1$ and $\\boldsymbol{g}_2$ by hand and write down the calcualtion step by step in the report."
   ]
  },
  {
   "cell_type": "code",
   "execution_count": 9,
   "metadata": {},
   "outputs": [
    {
     "name": "stdout",
     "output_type": "stream",
     "text": [
      "y\n",
      "[[9]\n",
      " [6]]\n",
      "X\n",
      "[[5 1 5]\n",
      " [6 7 6]]\n",
      "w\n",
      "[[4]\n",
      " [3]\n",
      " [3]]\n",
      "g1\n",
      "[[487]\n",
      " [428]\n",
      " [487]]\n",
      "g2\n",
      "[[487.]\n",
      " [428.]\n",
      " [487.]]\n",
      "\n",
      "The statment of g1 equals g2 is True\n"
     ]
    }
   ],
   "source": [
    "N = 2\n",
    "D = 3\n",
    "\n",
    "# y is a N-dimensional column vector\n",
    "y = np.random.randint(1, 10, size=[N, 1])\n",
    "print(\"y\")\n",
    "print(y)\n",
    "\n",
    "\n",
    "# X is a N by D matrix\n",
    "X = np.random.randint(1, 10, size=[N, D])\n",
    "Xt = X.T\n",
    "\n",
    "print(\"X\")\n",
    "print(X)\n",
    "\n",
    "# w is a D-dimensional column vector\n",
    "w = np.random.randint(1, 10, size=[D, 1])\n",
    "print(\"w\")\n",
    "print(w)\n",
    "\n",
    "g1 = ((X.T @ X)@ w - (X.T @ y))\n",
    "print(\"g1\")\n",
    "print(g1)\n",
    "\n",
    "g2 = np.zeros([D, 1])\n",
    "\n",
    "for i in range(N):\n",
    "    Xti = Xt[:, i]\n",
    "    Xti = np.array([Xti]).T\n",
    "    # the traposed column vector of the transposed i-th row of X is just the i-th row of X, so i skipped the .T for the first X in the equation\n",
    "    g2 = (((X[i, :] @ w)-y[i]) * Xti) + g2\n",
    "      \n",
    "\n",
    "print(\"g2\")\n",
    "print(g2)\n",
    "equal = True\n",
    "\n",
    "for j in range(len(g2)):\n",
    "    if (g1[j,0] != g2[j,0]):\n",
    "        equal = False\n",
    "        break\n",
    "\n",
    "print(\"\\nThe statment of g1 equals g2 is \" + str(equal))"
   ]
  },
  {
   "cell_type": "markdown",
   "metadata": {},
   "source": [
    "### Exercise 10 (2 marks - normal)\n",
    "\n",
    "Calculate the derivative of function $f(x) = x^2+3x+1$ at 10 randomly chosen values of $x$. Write a user-defined function for calculating an approximated derivative of an input function based on \n",
    "\n",
    "$$\\frac{d f(x)}{d x}=\\frac{f(x+\\Delta x)-f(x)}{\\Delta x} ~ .$$\n",
    "\n",
    "Use this function to calculate the approximated derivative for $f(x) = x^2+3x+1$ at the same 10 chosen values of $x$ for $\\Delta x = 1$, $\\Delta x = 0.1$ and $\\Delta x = 0.001$. Plot your derivatives and the approximated derivatives in the same figure. Provide axis names, legend and title for the figure. Explain which $\\Delta x$ gives you a better approximation and analyse how the choice of $\\Delta x$ affects the approximation in the report."
   ]
  },
  {
   "cell_type": "code",
   "execution_count": 10,
   "metadata": {},
   "outputs": [
    {
     "name": "stdout",
     "output_type": "stream",
     "text": [
      "\n",
      "Rsult when the change in x = 1:\n",
      "[4.1198403335762395, 4.713154173205327, 4.856371914778196]\n",
      "\n",
      "Result when the change in x = 0.1:\n",
      "[3.2198403335762404, 3.8131541732053265, 3.9563719147781917]\n",
      "\n",
      "Result when the change in x = 0.001:\n",
      "[3.1208403335762913, 3.7141541732053085, 3.857371914778085]\n",
      "\n",
      "Result when using the derivative function:\n",
      "[3.1198403335762395, 3.7131541732053264, 3.8563719147781947]\n"
     ]
    },
    {
     "data": {
      "image/png": "[encoded data removed]",
      "text/plain": [
       "<Figure size 432x288 with 1 Axes>"
      ]
     },
     "metadata": {
      "needs_background": "light"
     },
     "output_type": "display_data"
    }
   ],
   "source": [
    "myDer = []\n",
    "y_1 = []\n",
    "y_01 = []\n",
    "y_0001 = []\n",
    "\n",
    "def der(x) :\n",
    "    myDer.append(2*x+3)\n",
    "    y_1.append((((x+1)**2 + 3*(x+1) + 1 ) - (x**2 + 3*x + 1))/1)\n",
    "    y_01.append((((x+0.1)**2 + 3*(x+0.1) + 1 ) - (x**2 + 3*x + 1))/0.1)\n",
    "    y_0001.append((((x+0.001)**2 + 3*(x+0.001) + 1 ) - (x**2 + 3*x + 1))/0.001)\n",
    "\n",
    "x = np.sort(np.random.rand(10))\n",
    "for i in (x):\n",
    "    der(i)\n",
    "print(\"\\nRsult when the change in x = 1:\")\n",
    "print(y_1[0:3])\n",
    "print(\"\\nResult when the change in x = 0.1:\")\n",
    "print(y_01[0:3])\n",
    "print(\"\\nResult when the change in x = 0.001:\")\n",
    "print(y_0001[0:3])\n",
    "print(\"\\nResult when using the derivative function:\")\n",
    "print(myDer[0:3])\n",
    "\n",
    "plt.plot(x, myDer, label='2x+3')\n",
    "plt.plot(x, y_1, label='Delta_x = 1')\n",
    "plt.plot(x, y_01, label='Delta_x = 0.1')\n",
    "plt.plot(x, y_0001, label='Delta_x = 0.001')\n",
    "\n",
    "plt.xlabel('x input')\n",
    "plt.ylabel('Derivative of the function using x')\n",
    "plt.title('Derivative of function')\n",
    "plt.legend()\n",
    "\n",
    "plt.show()"
   ]
  },
  {
   "cell_type": "markdown",
   "metadata": {},
   "source": [
    "### Exercise 11 (3 marks - normal)\n",
    "\n",
    "Given two $d$-dimensional data points $\\boldsymbol{x} = [x_1,x_2,\\dots,x_d]$ and $\\boldsymbol{y}=[y_1,y_2,\\dots,y_d]$. The Euclidean distance between these two points is computed as \n",
    "\n",
    "$$\n",
    "d(\\boldsymbol{x},\\boldsymbol{y}) = \\sqrt{\\sum_{i=1}^d (x_i-y_i)^2} = \\sqrt{\\boldsymbol{x}\\boldsymbol{x}^T - 2\\boldsymbol{x}\\boldsymbol{y}^T+\\boldsymbol{y}\\boldsymbol{y}^T}.\n",
    "$$\n",
    "\n",
    "Generate $5$ random $3$-dimensional points and store them in a $5\\times 3$ matrix called $\\textbf{A}$ ($5$ rows and $3$ columns). Generate another $8$ random $3$-dimensional points and store them in a $8\\times 3$ matrix called $\\textbf{B}$ ($8$ rows and $3$ columns). Calculate the Euclidean distance between the $5$ and $8$ points, and store these distances in a $5\\times 8$ matrix called $\\textbf{D}$ using `for` loops ($5$ rows and $8$ colums).\n",
    "\n",
    "* Calculate the Euclidean distances between the 5 and 8 points, and store these distances in a $5\\times 8$ matrix called $\\boldsymbol{D}$ using `for` loops (5 rows and 8 columns). \n",
    "* Calculate  $\\boldsymbol{D}$ using algebraic matrix operations without using any loop.  Explain how you derive the solution in the report. \n"
   ]
  },
  {
   "cell_type": "code",
   "execution_count": 11,
   "metadata": {},
   "outputs": [
    {
     "name": "stdout",
     "output_type": "stream",
     "text": [
      "D calculated using for loop:\n",
      "[[8.24621125 6.         5.09901951 8.71779789 7.07106781 1.73205081\n",
      "  5.65685425 7.        ]\n",
      " [5.91607978 3.31662479 5.         6.55743852 4.12310563 2.\n",
      "  3.31662479 3.74165739]\n",
      " [4.12310563 1.         5.19615242 7.28010989 2.23606798 5.09901951\n",
      "  4.58257569 2.44948974]\n",
      " [6.         7.21110255 9.48683298 2.         5.47722558 6.55743852\n",
      "  2.82842712 5.38516481]\n",
      " [8.06225775 6.40312424 7.28010989 6.40312424 6.55743852 3.16227766\n",
      "  4.12310563 6.        ]]\n",
      "\n",
      "2nd D calculated without for loop:\n",
      "[[8.24621125 6.         5.09901951 8.71779789 7.07106781 1.73205081\n",
      "  5.65685425 7.        ]\n",
      " [5.91607978 3.31662479 5.         6.55743852 4.12310563 2.\n",
      "  3.31662479 3.74165739]\n",
      " [4.12310563 1.         5.19615242 7.28010989 2.23606798 5.09901951\n",
      "  4.58257569 2.44948974]\n",
      " [6.         7.21110255 9.48683298 2.         5.47722558 6.55743852\n",
      "  2.82842712 5.38516481]\n",
      " [8.06225775 6.40312424 7.28010989 6.40312424 6.55743852 3.16227766\n",
      "  4.12310563 6.        ]]\n"
     ]
    }
   ],
   "source": [
    "A = np.random.randint(1, 10, size=[5, 3])\n",
    "B = np.random.randint(1, 10, size=[8, 3])\n",
    "\n",
    "# d(A, B) = √ ((𝑥2 −𝑥1)^2 + (𝑦2 −𝑦1)^2 + (𝑧2 −𝑧1)^2 )\n",
    "# Option 1\n",
    "D= np.zeros([5, 8])\n",
    "for i in range(len(A)):\n",
    "    for j in range(len(B)):\n",
    "        D[i][j] = ((B[j][0] - A[i][0])**2 + (B[j][1] - A[i][1])**2 + (B[j][2] - A[i][2])**2)**0.5\n",
    "\n",
    "# Option 2\n",
    "# def fun(x, y):\n",
    "#     dist = np.sqrt(x@x.T - 2*x@y.T + y@y.T)\n",
    "#     return dist\n",
    "\n",
    "# D = np.zeros((5, 8))\n",
    "# for i in range(len(A)):\n",
    "#     for j in range(len(B)):\n",
    "#         D[i][j] = fun(A[i, :], B[j, :])\n",
    "\n",
    "print(\"D calculated using for loop:\")\n",
    "print(D)\n",
    "\n",
    "\n",
    "AA = A@A.T\n",
    "AA = np.diag(AA)\n",
    "AA = np.array([AA]).T\n",
    "one = np.ones([1, 8])\n",
    "A_matrix = AA@one\n",
    "\n",
    "BB = B@B.T\n",
    "BB = np.diag(BB)\n",
    "BB = np.array([BB])\n",
    "one = np.ones([5, 1])\n",
    "B_matrix = one@BB\n",
    "\n",
    "D = np.sqrt(A_matrix + B_matrix - 2*(A@B.T))\n",
    "\n",
    "print(\"\\n2nd D calculated without for loop:\")\n",
    "print(D)"
   ]
  },
  {
   "cell_type": "markdown",
   "metadata": {},
   "source": [
    "### Exercise 12 (5 marks - hard)\n",
    "\n",
    "This is a challenging exercise that requires some significant effort and time. Implement from scratch a piece of Python code that can be used to solve the following optimisation problem:\n",
    "$$\\min_{-4 \\leq x \\leq 6} x^4 -4x^3 +60\\sin(x) +50\\cos(x).$$\n",
    "  Explain your solution and discuss its advantage and limitation in the report.  You are encouraged to design the solution from scratch based on what you  have known. But you are allowed to seek support from existing literature and solve the problem using new self-learned knowledge, and in this case you need to provide references to the used knowledge resources that help you come up with a solution. What is not allowed is to use any optimisation library and any readily provided implementation (even with minor modifications). The solution should be implemented from scratch by yourself. "
   ]
  },
  {
   "cell_type": "code",
   "execution_count": 12,
   "metadata": {},
   "outputs": [
    {
     "data": {
      "image/png": "[encoded data removed]",
      "text/plain": [
       "<Figure size 432x288 with 1 Axes>"
      ]
     },
     "metadata": {
      "needs_background": "light"
     },
     "output_type": "display_data"
    }
   ],
   "source": [
    "# You can observe the plot of the function by running this cell\n",
    "\n",
    "import numpy as np\n",
    "import matplotlib.pyplot as plt\n",
    "\n",
    "def f(x):\n",
    "    return x**4 - 4 * x**3 + 60 * np.sin(x) + 50 * np.cos(x)\n",
    "\n",
    "lb = -4.\n",
    "ub = 6.\n",
    "x = np.arange(lb,ub,0.1)\n",
    "fx = f(x)\n",
    "\n",
    "plt.plot(x,fx)\n",
    "plt.xlabel(\"$x$\")\n",
    "plt.ylabel(\"$x^4 - 4x^3 + 60\\sin(x) +50\\cos(x)$\")\n",
    "plt.show()"
   ]
  },
  {
   "cell_type": "code",
   "execution_count": 13,
   "metadata": {},
   "outputs": [
    {
     "name": "stdout",
     "output_type": "stream",
     "text": [
      "3.6039999999991625\n",
      "-90.05272426947165\n",
      "0.012694095725638732\n"
     ]
    }
   ],
   "source": [
    "def f(x):\n",
    "    return x**4 - 4 * x**3 + 60 * np.sin(x) + 50 * np.cos(x)\n",
    "\n",
    "\n",
    "def df(x):\n",
    "    return 4*x**3 -12*x**2 + 60*np.cos(x) - 50*np.sin(x)\n",
    "\n",
    "\n",
    "lb = -4.\n",
    "ub = 6.\n",
    "x = np.arange(lb,ub,0.001)\n",
    "fx = f(x)\n",
    "dfx = df(x)\n",
    "\n",
    "miny = 1000000000\n",
    "minx = 1000000000\n",
    "closest_gradient = 1000000000\n",
    "\n",
    "for i in range(len(dfx)):\n",
    "# for gradient in dfx:\n",
    "    abs_dx = (dfx[i]**2)**0.5\n",
    "    if (abs_dx < closest_gradient and fx[i] < miny):\n",
    "        # To find the x that the gradient (dx/dy) is the closest to 0\n",
    "        miny = fx[i]\n",
    "        minx = x[i]\n",
    "        closest_gradient = abs_dx\n",
    "\n",
    "print(minx)\n",
    "print(miny)\n",
    "print(closest_gradient)\n"
   ]
  },
  {
   "cell_type": "code",
   "execution_count": null,
   "metadata": {},
   "outputs": [],
   "source": []
  }
 ],
 "metadata": {
  "kernelspec": {
   "display_name": "Python 3",
   "language": "python",
   "name": "python3"
  },
  "language_info": {
   "codemirror_mode": {
    "name": "ipython",
    "version": 3
   },
   "file_extension": ".py",
   "mimetype": "text/x-python",
   "name": "python",
   "nbconvert_exporter": "python",
   "pygments_lexer": "ipython3",
   "version": "3.8.5"
  }
 },
 "nbformat": 4,
 "nbformat_minor": 2
}
